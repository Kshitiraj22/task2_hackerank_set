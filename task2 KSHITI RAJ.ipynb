{
 "cells": [
  {
   "cell_type": "markdown",
   "id": "f015ffa8",
   "metadata": {},
   "source": [
    "# Task2 Kshiti raj"
   ]
  },
  {
   "cell_type": "code",
   "execution_count": null,
   "id": "06af7072",
   "metadata": {},
   "outputs": [],
   "source": [
    "#1. LIST COMPREHENSION:\n",
    "\n",
    "if __name__ == '__main__':\n",
    "    x = int(input(\"Input the first no.: \"))\n",
    "    y = int(input(\"Input the second no.: \"))\n",
    "    z = int(input(\"Input the third no.: \"))\n",
    "    n = int(input(\"Input the required sum not to be: \"))\n",
    "    #list comprehension:\n",
    "    full_list= [[a,b,c] for a in range(x+1) for b in range (y+1) for c in range (z+1) if a+b+c != n]\n",
    "    print(full_list)\n",
    "    "
   ]
  },
  {
   "cell_type": "code",
   "execution_count": null,
   "id": "c1a79ac4",
   "metadata": {},
   "outputs": [],
   "source": [
    "#2. Finding the runner up score:\n",
    "\n",
    "if __name__ == '__main__':\n",
    "    n = int(input(\" Enter the no. of scores: \"))\n",
    "    arr = map(int, input(\" Ener the list of scores:\").split())\n",
    "    \n",
    "    #convert the array to a set to remove duplicates:\n",
    "    new_set = set(arr)\n",
    "    \n",
    "    #convert the set back to a sorted list i.e- ascending order:\n",
    "    new_list= sorted(list(new_set))\n",
    "    \n",
    "    #now the runner up will bee:\n",
    "    runner_up = new_list[-2]\n",
    "    print(runner_up)"
   ]
  },
  {
   "cell_type": "code",
   "execution_count": null,
   "id": "b2d8f958",
   "metadata": {},
   "outputs": [],
   "source": [
    "#3. Nested list:\n",
    "\n",
    "if __name__ == '__main__':\n",
    "    score_list=[]\n",
    "    final_list=[]\n",
    "    for i in range(int(input(\"Give the range of students you want: \"))):\n",
    "        name = input(\"Enter the name of student: \")\n",
    "        score = float(input(\"Enter the score of the student above: \"))\n",
    "        score_list +=[score]\n",
    "        final_list += [[name,score]]\n",
    "    # convert the score list to set to remove duplicates,then back to a sorted list: \n",
    "    # finally take the index[1] element from list:\n",
    "    second_lowest= sorted(list(set(score_list)))[1]\n",
    "    \n",
    "    # a,b are the name,score of students: \n",
    "    for a,b in sorted(final_list):\n",
    "        if b == second_lowest:\n",
    "            print(\"The second lowest scorer is: \",a)"
   ]
  },
  {
   "cell_type": "code",
   "execution_count": null,
   "id": "4a28e516",
   "metadata": {},
   "outputs": [],
   "source": [
    "#4. Finding the percentage:\n",
    "\n",
    "if __name__ == '__main__':\n",
    "    n = int(input(\"Enter no of student record: \"))\n",
    "    #empty dictionary:\n",
    "    student_marks = {} \n",
    "    for i in range(n):\n",
    "        name, *line = input().split()\n",
    "        scores = list(map(float, line))\n",
    "        student_marks[name] = scores\n",
    "    query_name = input()\n",
    "    average_out= sum(student_marks[query_name])\n",
    "    print(format(average_out/3 , '.2f'))\n"
   ]
  },
  {
   "cell_type": "code",
   "execution_count": null,
   "id": "9b421686",
   "metadata": {},
   "outputs": [],
   "source": [
    "#5.lists:\n",
    "\n",
    "if __name__ == '__main__':\n",
    "    N = int(input(\"Enter the no of command:\"))\n",
    "    List= []\n",
    "    \n",
    "    for i in range(0,N):\n",
    "        command=list(input(\"Enter the command: \").split().lower())\n",
    "        if command[0] == \"insert\":\n",
    "            List.insert(int(command[1]),int(command[2]))\n",
    "        elif command[0] == \"print\":\n",
    "            print(List)\n",
    "        elif command[0] == \"remove\":\n",
    "            List.remove(int(command[1]))\n",
    "        elif command[0] == \"append\":\n",
    "            List.append(int(command[1]))\n",
    "        elif command[0] == \"sort\":\n",
    "            List.sort()\n",
    "        elif command[0] == \"pop\":\n",
    "            List.pop()\n",
    "        elif command[0] == \"reverse\":\n",
    "            List.reverse()\n",
    "        "
   ]
  },
  {
   "cell_type": "code",
   "execution_count": null,
   "id": "2642db0a",
   "metadata": {},
   "outputs": [],
   "source": [
    "#6. Tuples:\n",
    "\n",
    "if __name__ == '__main__':\n",
    "    n = int(input(\"Enter the integer:\"))\n",
    "    integer_list = map(int, input(\"Enter the integer for tuple: \").split())\n",
    "    t= tuple(integer_list)\n",
    "    print (hash(t))"
   ]
  },
  {
   "cell_type": "code",
   "execution_count": null,
   "id": "895e9102",
   "metadata": {},
   "outputs": [],
   "source": [
    "#7. Intro to sets:\n",
    "\n",
    "def average(array):\n",
    "    return sum(set(array))/len(set(array))\n",
    "    # your code goes here\n",
    "\n",
    "if __name__ == '__main__':"
   ]
  },
  {
   "cell_type": "code",
   "execution_count": null,
   "id": "c2c5d386",
   "metadata": {},
   "outputs": [],
   "source": [
    "#8. No idea:\n",
    "n,m = input(\"Enter integers: \").split()\n",
    "integers= input(\"Enter elements of array: \").split()\n",
    "\n",
    "A = set(input(\"Enter elements of set A: \").split())\n",
    "B = set(input(\"Enter elements of set B: \").split())\n",
    "\n",
    "total_happ=0\n",
    "for i in integers:\n",
    "    if i in A:\n",
    "        total_happ+=1\n",
    "    if i in B:\n",
    "        total_happ-=1\n",
    "        \n",
    "print(total_happ)"
   ]
  },
  {
   "cell_type": "code",
   "execution_count": null,
   "id": "d0897f19",
   "metadata": {},
   "outputs": [],
   "source": [
    "#9. symmetric differenece:\n",
    "\n",
    "M= int(input(\"Enter the first integer: \"))\n",
    "a= set(map(int, input(\"Enter the first set: \").split()))\n",
    "N= int(input(\"Enter the second integer: \"))\n",
    "b= set(map(int, input(\"Enter the second set: \").split()))\n",
    "#first find the difference:\n",
    "diff1= a.difference(b)\n",
    "diff2= b.difference(a)\n",
    "#then the values that exist either in diff1 or diff2\n",
    "unionn= diff1.union(diff2)\n",
    "#display them from sorted set:\n",
    "for i in sorted(unionn):\n",
    "    print(i)"
   ]
  },
  {
   "cell_type": "code",
   "execution_count": null,
   "id": "4600847c",
   "metadata": {},
   "outputs": [],
   "source": [
    "#10. Set.add():\n",
    "\n",
    "N= int(input(\"Enter the no of countries: \"))\n",
    "countries= set([])\n",
    "for i in range(N):\n",
    "    countries.add(input(\"Enter the countries: \"))\n",
    "print(len(countries))"
   ]
  },
  {
   "cell_type": "code",
   "execution_count": null,
   "id": "67ebb777",
   "metadata": {},
   "outputs": [],
   "source": [
    "#11. set pop,remove,discard:\n",
    "\n",
    "n = int(input(\"Enter no of elements: \"))\n",
    "s = set(map(int, input(\"Enter the elements of set: \").split()))\n",
    "N = int(input(\"Enter the no of commands: \"))\n",
    "for i in range(N):\n",
    "    cmd = list(map(str, input(\"Enter the command: \").split()))\n",
    "    if cmd[0] == \"pop\":\n",
    "        s.pop()\n",
    "    elif cmd[0] == \"remove\":\n",
    "        try:\n",
    "            s.remove(int(cmd[1]))\n",
    "        except:\n",
    "            continue\n",
    "    elif cmd[0] == \"discard\":\n",
    "        try:\n",
    "            s.discard(int(cmd[1]))\n",
    "        except:\n",
    "            continue\n",
    "print(sum(s))\n",
    "print(s)"
   ]
  },
  {
   "cell_type": "code",
   "execution_count": null,
   "id": "176976f4",
   "metadata": {},
   "outputs": [],
   "source": [
    "#12. Set union:\n",
    "\n",
    "n= int(input(\"Enter the english subscribed: \"))\n",
    "A = set(map(int, input(\"Enter elements of A: \").split()))\n",
    "m = int(input(\"Enter the no of french subscribed: \"))\n",
    "B = set(map(int, input(\"Enter elements of B: \").split()))\n",
    "\n",
    "atleast_one = A.union(B)\n",
    "print(len(atleast_one))"
   ]
  },
  {
   "cell_type": "code",
   "execution_count": null,
   "id": "3b47b930",
   "metadata": {},
   "outputs": [],
   "source": [
    "#13. Set inttersection:\n",
    "\n",
    "n=input(\"Enter the english subscribed: \")\n",
    "english = set(input(\"Enter elements of english: \").split())\n",
    "n2=input(\"Enter the no of french subscribed: \")\n",
    "french = set(input(\"Enter elements of french: \").split())\n",
    "both = english.intersection(french)\n",
    "print(len(both))"
   ]
  },
  {
   "cell_type": "code",
   "execution_count": null,
   "id": "2ccea2bf",
   "metadata": {},
   "outputs": [],
   "source": [
    "#14. Set difference:\n",
    "\n",
    "n1=input(\"Enter the english subscribed: \")\n",
    "english = set(input(\"Enter elements of english: \").split())\n",
    "n2=input(\"Enter the no of french subscribed: \")\n",
    "french = set(input(\"Enter elements of french: \").split())\n",
    "french_ones = english.difference(french)\n",
    "print(len(french_ones))"
   ]
  },
  {
   "cell_type": "code",
   "execution_count": null,
   "id": "ee5cb0b9",
   "metadata": {},
   "outputs": [],
   "source": [
    "#15. Set symmetric_difference:\n",
    "\n",
    "n=input(\"Enter the english subscribed: \")\n",
    "english= set(input(\"Enter elements of english: \").split())\n",
    "\n",
    "n=input(\"Enter the no of french subscribed: \")\n",
    "french= set(input(\"Enter elements of french: \").split())\n",
    "\n",
    "either = english.symmetric_difference(french)\n",
    "print(len(either))"
   ]
  },
  {
   "cell_type": "code",
   "execution_count": null,
   "id": "ffb90c33",
   "metadata": {},
   "outputs": [],
   "source": [
    "#16. Set mutation:\n",
    "\n",
    "length_set= int(input())\n",
    "set1= set(map(int, input().split()))\n",
    "length_com= int (input())\n",
    "\n",
    "for i in range(length_com):\n",
    "    command = input().split()\n",
    "    if command[0] == 'intersection_update':\n",
    "        storage = set(map(int, input().split()))\n",
    "        set1.intersection_update(storage)\n",
    "    elif command[0] == 'update':\n",
    "        storage = set(map(int, input().split()))\n",
    "        set1.update(storage)\n",
    "    elif command[0] == 'symmetric_difference_update':\n",
    "        storage = set(map(int, input().split()))\n",
    "        set1.symmetric_difference_update(storage)\n",
    "    elif command[0] == 'difference_update':\n",
    "        storage = set(map(int, input().split()))\n",
    "        set1.difference_update(storage)\n",
    "    \n",
    "print(sum(set1))"
   ]
  },
  {
   "cell_type": "code",
   "execution_count": null,
   "id": "566d7ef5",
   "metadata": {},
   "outputs": [],
   "source": [
    "#17. Captain room:\n",
    "\n",
    "if __name__ == '__main__':\n",
    "    K = int(input(\"Enter the integer: \"))\n",
    "    room_no = list(map(int, input(\"Enter the unordered list elements: \").split()))\n",
    "    roomSet = set(room_no)\n",
    "    CaptiansRoom = (((sum(roomSet) * K) - (sum(room_no))) // (K - 1))\n",
    "    print(CaptiansRoom)"
   ]
  },
  {
   "cell_type": "code",
   "execution_count": null,
   "id": "7c47a368",
   "metadata": {},
   "outputs": [],
   "source": [
    "#18. Set subset:\n",
    "\n",
    "T=int(input(\"Enter the no of test cases: \"))\n",
    "for i in range(T):\n",
    "    A = int(input())\n",
    "    set_A = set(map(int, input().split()))\n",
    "\n",
    "    B = int(input())\n",
    "    set_B = set(map(int, input().split()))\n",
    "\n",
    "    if len(set_A.difference(set_B)) == 0:\n",
    "        print(\"True\")\n",
    "    else:\n",
    "        print(\"False\")"
   ]
  },
  {
   "cell_type": "code",
   "execution_count": null,
   "id": "aeb9cd49",
   "metadata": {},
   "outputs": [],
   "source": [
    "#19. Set strict subset:\n",
    "\n",
    "set1 = set(map(int, input().split()))\n",
    "n = int(input())\n",
    "# n other sets:\n",
    "set2 = set(map(int, input().split()))\n",
    "set3 = set(map(int, input().split()))\n",
    "print(set1.issuperset(set3))"
   ]
  }
 ],
 "metadata": {
  "kernelspec": {
   "display_name": "Python 3 (ipykernel)",
   "language": "python",
   "name": "python3"
  },
  "language_info": {
   "codemirror_mode": {
    "name": "ipython",
    "version": 3
   },
   "file_extension": ".py",
   "mimetype": "text/x-python",
   "name": "python",
   "nbconvert_exporter": "python",
   "pygments_lexer": "ipython3",
   "version": "3.11.2"
  }
 },
 "nbformat": 4,
 "nbformat_minor": 5
}
